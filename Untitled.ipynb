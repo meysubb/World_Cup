{
 "cells": [
  {
   "cell_type": "code",
   "execution_count": 137,
   "metadata": {},
   "outputs": [],
   "source": [
    "#https://projects.ncsu.edu/crsc/reports/ftp/pdf/crsc-tr06-19.pdf\n",
    "#https://github.com/lbenz730/world_cup\n",
    "import pandas as pd"
   ]
  },
  {
   "cell_type": "code",
   "execution_count": 138,
   "metadata": {},
   "outputs": [],
   "source": [
    "int_games = pd.read_csv(\"https://raw.githubusercontent.com/lbenz730/world_cup/master/international_soccer_game_data.csv\")"
   ]
  },
  {
   "cell_type": "code",
   "execution_count": 139,
   "metadata": {},
   "outputs": [],
   "source": [
    "int_games['date'] = pd.to_datetime(int_games['date'])"
   ]
  },
  {
   "cell_type": "code",
   "execution_count": 140,
   "metadata": {},
   "outputs": [],
   "source": [
    "int_games['recent'] = int_games['date'] - pd.datetime.now().date()\n",
    "int_games['GD'] = int_games['home_score'] - int_games['away_score']"
   ]
  },
  {
   "cell_type": "code",
   "execution_count": 141,
   "metadata": {},
   "outputs": [],
   "source": [
    "home_games = int_games[['home_team','away_team','tournament','neutral','recent','date','GD']]\n",
    "away_games = int_games[['away_team','home_team','tournament','neutral','recent','date','GD']]"
   ]
  },
  {
   "cell_type": "code",
   "execution_count": 142,
   "metadata": {},
   "outputs": [
    {
     "name": "stderr",
     "output_type": "stream",
     "text": [
      "/anaconda/lib/python2.7/site-packages/ipykernel_launcher.py:1: SettingWithCopyWarning: \n",
      "A value is trying to be set on a copy of a slice from a DataFrame.\n",
      "Try using .loc[row_indexer,col_indexer] = value instead\n",
      "\n",
      "See the caveats in the documentation: http://pandas.pydata.org/pandas-docs/stable/indexing.html#indexing-view-versus-copy\n",
      "  \"\"\"Entry point for launching an IPython kernel.\n",
      "/anaconda/lib/python2.7/site-packages/ipykernel_launcher.py:2: SettingWithCopyWarning: \n",
      "A value is trying to be set on a copy of a slice from a DataFrame.\n",
      "Try using .loc[row_indexer,col_indexer] = value instead\n",
      "\n",
      "See the caveats in the documentation: http://pandas.pydata.org/pandas-docs/stable/indexing.html#indexing-view-versus-copy\n",
      "  \n",
      "/anaconda/lib/python2.7/site-packages/ipykernel_launcher.py:3: SettingWithCopyWarning: \n",
      "A value is trying to be set on a copy of a slice from a DataFrame.\n",
      "Try using .loc[row_indexer,col_indexer] = value instead\n",
      "\n",
      "See the caveats in the documentation: http://pandas.pydata.org/pandas-docs/stable/indexing.html#indexing-view-versus-copy\n",
      "  This is separate from the ipykernel package so we can avoid doing imports until\n"
     ]
    }
   ],
   "source": [
    "home_games['loc'] = 'H'\n",
    "away_games['loc'] = 'A'\n",
    "away_games['GD'] = -1 * away_games['GD']"
   ]
  },
  {
   "cell_type": "code",
   "execution_count": 143,
   "metadata": {},
   "outputs": [],
   "source": [
    "col_rename = ['team','opponent','tourney','neutral','recent','date','GD','location']\n",
    "away_games.columns = col_rename\n",
    "home_games.columns = col_rename"
   ]
  },
  {
   "cell_type": "code",
   "execution_count": 144,
   "metadata": {},
   "outputs": [],
   "source": [
    "all_games = pd.concat([away_games,home_games])\n",
    "all_games.loc[all_games['neutral'],'location'] = 'N'\n",
    "all_games.reset_index(inplace=True)"
   ]
  },
  {
   "cell_type": "code",
   "execution_count": 145,
   "metadata": {},
   "outputs": [],
   "source": [
    "relevant_games = all_games[all_games['date'].dt.year >= 2012]"
   ]
  },
  {
   "cell_type": "code",
   "execution_count": 148,
   "metadata": {},
   "outputs": [
    {
     "data": {
      "text/html": [
       "<div>\n",
       "<style>\n",
       "    .dataframe thead tr:only-child th {\n",
       "        text-align: right;\n",
       "    }\n",
       "\n",
       "    .dataframe thead th {\n",
       "        text-align: left;\n",
       "    }\n",
       "\n",
       "    .dataframe tbody tr th {\n",
       "        vertical-align: top;\n",
       "    }\n",
       "</style>\n",
       "<table border=\"1\" class=\"dataframe\">\n",
       "  <thead>\n",
       "    <tr style=\"text-align: right;\">\n",
       "      <th></th>\n",
       "      <th>index</th>\n",
       "      <th>team</th>\n",
       "      <th>opponent</th>\n",
       "      <th>tourney</th>\n",
       "      <th>neutral</th>\n",
       "      <th>recent</th>\n",
       "      <th>date</th>\n",
       "      <th>GD</th>\n",
       "      <th>location</th>\n",
       "    </tr>\n",
       "  </thead>\n",
       "  <tbody>\n",
       "    <tr>\n",
       "      <th>33296</th>\n",
       "      <td>33296</td>\n",
       "      <td>South Africa</td>\n",
       "      <td>Equatorial Guinea</td>\n",
       "      <td>Friendly</td>\n",
       "      <td>False</td>\n",
       "      <td>-2346 days</td>\n",
       "      <td>2012-01-06</td>\n",
       "      <td>0</td>\n",
       "      <td>A</td>\n",
       "    </tr>\n",
       "    <tr>\n",
       "      <th>33297</th>\n",
       "      <td>33297</td>\n",
       "      <td>Zimbabwe</td>\n",
       "      <td>Botswana</td>\n",
       "      <td>Friendly</td>\n",
       "      <td>False</td>\n",
       "      <td>-2345 days</td>\n",
       "      <td>2012-01-07</td>\n",
       "      <td>0</td>\n",
       "      <td>A</td>\n",
       "    </tr>\n",
       "    <tr>\n",
       "      <th>33298</th>\n",
       "      <td>33298</td>\n",
       "      <td>Burkina Faso</td>\n",
       "      <td>Gabon</td>\n",
       "      <td>Friendly</td>\n",
       "      <td>False</td>\n",
       "      <td>-2343 days</td>\n",
       "      <td>2012-01-09</td>\n",
       "      <td>0</td>\n",
       "      <td>A</td>\n",
       "    </tr>\n",
       "    <tr>\n",
       "      <th>33299</th>\n",
       "      <td>33299</td>\n",
       "      <td>Sudan</td>\n",
       "      <td>Tunisia</td>\n",
       "      <td>Friendly</td>\n",
       "      <td>True</td>\n",
       "      <td>-2343 days</td>\n",
       "      <td>2012-01-09</td>\n",
       "      <td>-3</td>\n",
       "      <td>N</td>\n",
       "    </tr>\n",
       "    <tr>\n",
       "      <th>33300</th>\n",
       "      <td>33300</td>\n",
       "      <td>Angola</td>\n",
       "      <td>Nigeria</td>\n",
       "      <td>Friendly</td>\n",
       "      <td>False</td>\n",
       "      <td>-2341 days</td>\n",
       "      <td>2012-01-11</td>\n",
       "      <td>0</td>\n",
       "      <td>A</td>\n",
       "    </tr>\n",
       "  </tbody>\n",
       "</table>\n",
       "</div>"
      ],
      "text/plain": [
       "       index          team           opponent   tourney  neutral     recent  \\\n",
       "33296  33296  South Africa  Equatorial Guinea  Friendly    False -2346 days   \n",
       "33297  33297      Zimbabwe           Botswana  Friendly    False -2345 days   \n",
       "33298  33298  Burkina Faso              Gabon  Friendly    False -2343 days   \n",
       "33299  33299         Sudan            Tunisia  Friendly     True -2343 days   \n",
       "33300  33300        Angola            Nigeria  Friendly    False -2341 days   \n",
       "\n",
       "            date  GD location  \n",
       "33296 2012-01-06   0        A  \n",
       "33297 2012-01-07   0        A  \n",
       "33298 2012-01-09   0        A  \n",
       "33299 2012-01-09  -3        N  \n",
       "33300 2012-01-11   0        A  "
      ]
     },
     "execution_count": 148,
     "metadata": {},
     "output_type": "execute_result"
    }
   ],
   "source": [
    "relevant_games.head()"
   ]
  },
  {
   "cell_type": "code",
   "execution_count": 159,
   "metadata": {},
   "outputs": [],
   "source": [
    "def tourney_weights(t_name):\n",
    "    # WC - 4\n",
    "    # Continental Cup & Confederations Cup - 3\n",
    "    three_list = [\"AFC Asian Cup\",\"AFC Challenge Cup\",\"African Cup of Nation\",\n",
    "                  \"CFU Caribbean Cup\",\"CONCACAF Championship\",\"Gold Cup\",\"Oceania Nations Cup\",\n",
    "                  \"UAFA Cup\",\"UEFA Euro\",\"Confederations Cup\"]\n",
    "    # WC Qualifying & CC Qualifying - 2.5\n",
    "    two_list = [\"FIFA World Cup qualification\",\"AFC Asian Cup qualification\",\"AFC Challenge Cup qualification\",\n",
    "                \"African Cup of Nations qualification\",\"CFU Caribbean Cup qualification\",\n",
    "                \"CONCACAF Championship qualification\",\"Gold Cup qualification\",\n",
    "                \"Oceania Nations Cup qualification\",\"UAFA Cup qualification\",\"UEFA Euro qualification\"]\n",
    "    # all others 1\n",
    "    if t_name == 'FIFA World Cup':\n",
    "        return 4\n",
    "    elif t_name in three_list: \n",
    "        return 3\n",
    "    elif t_name in two_list:\n",
    "        return 2.5\n",
    "    else:\n",
    "        return 1"
   ]
  },
  {
   "cell_type": "code",
   "execution_count": null,
   "metadata": {},
   "outputs": [],
   "source": [
    "relevant_games"
   ]
  }
 ],
 "metadata": {
  "kernelspec": {
   "display_name": "Python 2",
   "language": "python",
   "name": "python2"
  },
  "language_info": {
   "codemirror_mode": {
    "name": "ipython",
    "version": 2
   },
   "file_extension": ".py",
   "mimetype": "text/x-python",
   "name": "python",
   "nbconvert_exporter": "python",
   "pygments_lexer": "ipython2",
   "version": "2.7.13"
  }
 },
 "nbformat": 4,
 "nbformat_minor": 2
}
