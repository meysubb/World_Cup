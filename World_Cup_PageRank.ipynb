{
 "cells": [
  {
   "cell_type": "code",
   "execution_count": 1,
   "metadata": {},
   "outputs": [],
   "source": [
    "#https://projects.ncsu.edu/crsc/reports/ftp/pdf/crsc-tr06-19.pdf\n",
    "#https://github.com/lbenz730/world_cup\n",
    "import pandas as pd\n",
    "import numpy as np"
   ]
  },
  {
   "cell_type": "code",
   "execution_count": 2,
   "metadata": {},
   "outputs": [],
   "source": [
    "int_games = pd.read_csv(\"https://raw.githubusercontent.com/lbenz730/world_cup/master/international_soccer_game_data.csv\")"
   ]
  },
  {
   "cell_type": "code",
   "execution_count": 3,
   "metadata": {},
   "outputs": [],
   "source": [
    "int_games['date'] = pd.to_datetime(int_games['date'])"
   ]
  },
  {
   "cell_type": "code",
   "execution_count": 4,
   "metadata": {},
   "outputs": [],
   "source": [
    "int_games['recent'] = pd.datetime.now().date() - int_games['date'] \n",
    "int_games['GD'] = int_games['home_score'] - int_games['away_score']"
   ]
  },
  {
   "cell_type": "code",
   "execution_count": 5,
   "metadata": {},
   "outputs": [],
   "source": [
    "pr_alo = True"
   ]
  },
  {
   "cell_type": "code",
   "execution_count": 6,
   "metadata": {},
   "outputs": [],
   "source": [
    "if not pr_alo:\n",
    "    home_games = int_games[['home_team','away_team','tournament','neutral','recent','date','GD']]\n",
    "    away_games = int_games[['away_team','home_team','tournament','neutral','recent','date','GD']]\n",
    "    home_games['loc'] = 'H'\n",
    "    away_games['loc'] = 'A'\n",
    "    away_games['GD'] = -1 * away_games['GD']\n",
    "    col_rename = ['team','opponent','tourney','neutral','recent','date','GD','location']\n",
    "    away_games.columns = col_rename\n",
    "    home_games.columns = col_rename\n",
    "    all_games = pd.concat([away_games,home_games])\n",
    "    all_games.loc[all_games['neutral'],'location'] = 'N'\n",
    "    all_games.reset_index(inplace=True)\n",
    "    relevant_games = all_games[all_games['date'].dt.year > 2014]"
   ]
  },
  {
   "cell_type": "code",
   "execution_count": 7,
   "metadata": {},
   "outputs": [],
   "source": [
    "if pr_alo:\n",
    "    select_df = int_games[['home_team','away_team','tournament','neutral','recent','date','GD']]\n",
    "    col_renamev2 = ['team','opponent','tourney','neutral','recent','date','GD']\n",
    "    select_df.columns = col_renamev2\n",
    "    relevant_games = select_df[select_df['date'].dt.year>=2014]"
   ]
  },
  {
   "cell_type": "code",
   "execution_count": 8,
   "metadata": {},
   "outputs": [],
   "source": [
    "def tourney_weights(t_name):\n",
    "    # WC - 4\n",
    "    # Continental Cup & Confederations Cup - 3\n",
    "    three_list = [\"AFC Asian Cup\",\"AFC Challenge Cup\",\"African Cup of Nation\",\n",
    "                  \"CFU Caribbean Cup\",\"CONCACAF Championship\",\"Gold Cup\",\"Oceania Nations Cup\",\n",
    "                  \"UAFA Cup\",\"UEFA Euro\",\"Confederations Cup\"]\n",
    "    # WC Qualifying & CC Qualifying - 2.5\n",
    "    two_list = [\"FIFA World Cup qualification\",\"AFC Asian Cup qualification\",\"AFC Challenge Cup qualification\",\n",
    "                \"African Cup of Nations qualification\",\"CFU Caribbean Cup qualification\",\n",
    "                \"CONCACAF Championship qualification\",\"Gold Cup qualification\",\n",
    "                \"Oceania Nations Cup qualification\",\"UAFA Cup qualification\",\"UEFA Euro qualification\"]\n",
    "    # all others 1\n",
    "    if t_name == 'FIFA World Cup':\n",
    "        return 4\n",
    "    elif t_name in three_list: \n",
    "        return 3\n",
    "    elif t_name in two_list:\n",
    "        return 2.5\n",
    "    else:\n",
    "        return 1"
   ]
  },
  {
   "cell_type": "code",
   "execution_count": 9,
   "metadata": {},
   "outputs": [
    {
     "name": "stderr",
     "output_type": "stream",
     "text": [
      "/anaconda/lib/python2.7/site-packages/ipykernel_launcher.py:1: SettingWithCopyWarning: \n",
      "A value is trying to be set on a copy of a slice from a DataFrame.\n",
      "Try using .loc[row_indexer,col_indexer] = value instead\n",
      "\n",
      "See the caveats in the documentation: http://pandas.pydata.org/pandas-docs/stable/indexing.html#indexing-view-versus-copy\n",
      "  \"\"\"Entry point for launching an IPython kernel.\n"
     ]
    }
   ],
   "source": [
    "relevant_games['weights'] = relevant_games['tourney'].apply(tourney_weights)"
   ]
  },
  {
   "cell_type": "code",
   "execution_count": 10,
   "metadata": {},
   "outputs": [
    {
     "name": "stderr",
     "output_type": "stream",
     "text": [
      "/anaconda/lib/python2.7/site-packages/ipykernel_launcher.py:1: SettingWithCopyWarning: \n",
      "A value is trying to be set on a copy of a slice from a DataFrame.\n",
      "Try using .loc[row_indexer,col_indexer] = value instead\n",
      "\n",
      "See the caveats in the documentation: http://pandas.pydata.org/pandas-docs/stable/indexing.html#indexing-view-versus-copy\n",
      "  \"\"\"Entry point for launching an IPython kernel.\n"
     ]
    }
   ],
   "source": [
    "relevant_games['GD_recent_weight'] = relevant_games['weights'] * relevant_games['GD'] * np.exp(-1*(relevant_games['recent'].dt.days)/np.max(np.absolute(relevant_games['recent'].dt.days)))"
   ]
  },
  {
   "cell_type": "code",
   "execution_count": 11,
   "metadata": {},
   "outputs": [],
   "source": [
    "gd_group = relevant_games.groupby(['team','opponent'])['GD_recent_weight'].agg('sum')"
   ]
  },
  {
   "cell_type": "code",
   "execution_count": 12,
   "metadata": {},
   "outputs": [],
   "source": [
    "group_scores = gd_group.reset_index()"
   ]
  },
  {
   "cell_type": "code",
   "execution_count": 13,
   "metadata": {},
   "outputs": [],
   "source": [
    "group_scores=group_scores.rename(columns = {'GD_recent_weight':'GD'})"
   ]
  },
  {
   "cell_type": "code",
   "execution_count": 14,
   "metadata": {},
   "outputs": [
    {
     "name": "stderr",
     "output_type": "stream",
     "text": [
      "/anaconda/lib/python2.7/site-packages/ipykernel_launcher.py:2: SettingWithCopyWarning: \n",
      "A value is trying to be set on a copy of a slice from a DataFrame.\n",
      "Try using .loc[row_indexer,col_indexer] = value instead\n",
      "\n",
      "See the caveats in the documentation: http://pandas.pydata.org/pandas-docs/stable/indexing.html#indexing-view-versus-copy\n",
      "  \n"
     ]
    }
   ],
   "source": [
    "test = group_scores[group_scores['GD'] == 0]\n",
    "test['GD'] = -(0.5)\n",
    "add_values = group_scores.append(test)\n",
    "add_values.reset_index(inplace=True)"
   ]
  },
  {
   "cell_type": "code",
   "execution_count": 15,
   "metadata": {},
   "outputs": [],
   "source": [
    "add_values.loc[add_values['GD'] == 0,'GD'] = 0.5"
   ]
  },
  {
   "cell_type": "code",
   "execution_count": 16,
   "metadata": {},
   "outputs": [],
   "source": [
    "def create_from(row):\n",
    "    if row['GD']<0:\n",
    "        return row['team']\n",
    "    else:\n",
    "        return row['opponent']\n",
    "def create_to(row):\n",
    "    if row['GD']>0:\n",
    "        return row['team']\n",
    "    else: \n",
    "        return row['opponent']"
   ]
  },
  {
   "cell_type": "code",
   "execution_count": 17,
   "metadata": {},
   "outputs": [],
   "source": [
    "from_scores = add_values\n",
    "from_scores['from'] = from_scores.apply(create_from, axis=1)\n",
    "from_scores['to'] = from_scores.apply(create_to,axis=1)"
   ]
  },
  {
   "cell_type": "code",
   "execution_count": 18,
   "metadata": {},
   "outputs": [],
   "source": [
    "from_scores['GD'] = np.absolute(from_scores['GD'])\n",
    "final_graph_df = from_scores[['from','to','GD']]"
   ]
  },
  {
   "cell_type": "code",
   "execution_count": 19,
   "metadata": {},
   "outputs": [],
   "source": [
    "final_graph_df.reset_index(inplace=True)"
   ]
  },
  {
   "cell_type": "code",
   "execution_count": 20,
   "metadata": {},
   "outputs": [],
   "source": [
    "simple_group_df = final_graph_df.groupby(['from','to'])['GD'].agg('sum')"
   ]
  },
  {
   "cell_type": "code",
   "execution_count": 21,
   "metadata": {},
   "outputs": [],
   "source": [
    "simple_df = simple_group_df.reset_index()"
   ]
  },
  {
   "cell_type": "markdown",
   "metadata": {},
   "source": [
    "### Final Start Page Rank"
   ]
  },
  {
   "cell_type": "code",
   "execution_count": 22,
   "metadata": {},
   "outputs": [],
   "source": [
    "import networkx as nx"
   ]
  },
  {
   "cell_type": "code",
   "execution_count": 23,
   "metadata": {},
   "outputs": [],
   "source": [
    "G=nx.from_pandas_dataframe(simple_df, source='from', target='to', edge_attr='GD',create_using=nx.DiGraph())"
   ]
  },
  {
   "cell_type": "code",
   "execution_count": 24,
   "metadata": {},
   "outputs": [],
   "source": [
    "w_ng = nx.pagerank(G)"
   ]
  },
  {
   "cell_type": "code",
   "execution_count": 25,
   "metadata": {},
   "outputs": [],
   "source": [
    "sorted_w = sorted(w_ng.items(), key=lambda x: x[1],reverse=True)"
   ]
  },
  {
   "cell_type": "code",
   "execution_count": 26,
   "metadata": {},
   "outputs": [],
   "source": [
    "w_df = pd.DataFrame.from_dict(w_ng.items())"
   ]
  },
  {
   "cell_type": "code",
   "execution_count": 27,
   "metadata": {},
   "outputs": [],
   "source": [
    "w_df['scaled'] = (w_df[1] - w_df[1].mean())/(w_df[1].std())"
   ]
  },
  {
   "cell_type": "code",
   "execution_count": 28,
   "metadata": {},
   "outputs": [],
   "source": [
    "w_df['rank'] = w_df['scaled'].rank(ascending=False)"
   ]
  },
  {
   "cell_type": "markdown",
   "metadata": {},
   "source": [
    "## Compare to World Cup Teams"
   ]
  },
  {
   "cell_type": "code",
   "execution_count": 42,
   "metadata": {},
   "outputs": [],
   "source": [
    "world_cup = pd.read_csv(\"https://raw.githubusercontent.com/lbenz730/world_cup/master/fixtures.csv\")"
   ]
  },
  {
   "cell_type": "code",
   "execution_count": 64,
   "metadata": {},
   "outputs": [],
   "source": [
    "teams1 = world_cup['team'].unique()\n",
    "teams2 = world_cup['opponent'].unique()"
   ]
  },
  {
   "cell_type": "code",
   "execution_count": 68,
   "metadata": {},
   "outputs": [],
   "source": [
    "joined_list = list(set([y for x in [teams1, teams2] for y in x]))"
   ]
  },
  {
   "cell_type": "code",
   "execution_count": 74,
   "metadata": {},
   "outputs": [
    {
     "data": {
      "text/html": [
       "<div>\n",
       "<style>\n",
       "    .dataframe thead tr:only-child th {\n",
       "        text-align: right;\n",
       "    }\n",
       "\n",
       "    .dataframe thead th {\n",
       "        text-align: left;\n",
       "    }\n",
       "\n",
       "    .dataframe tbody tr th {\n",
       "        vertical-align: top;\n",
       "    }\n",
       "</style>\n",
       "<table border=\"1\" class=\"dataframe\">\n",
       "  <thead>\n",
       "    <tr style=\"text-align: right;\">\n",
       "      <th></th>\n",
       "      <th>0</th>\n",
       "      <th>1</th>\n",
       "      <th>scaled</th>\n",
       "      <th>rank</th>\n",
       "    </tr>\n",
       "  </thead>\n",
       "  <tbody>\n",
       "    <tr>\n",
       "      <th>23</th>\n",
       "      <td>Germany</td>\n",
       "      <td>0.014541</td>\n",
       "      <td>3.148790</td>\n",
       "      <td>1.0</td>\n",
       "    </tr>\n",
       "    <tr>\n",
       "      <th>36</th>\n",
       "      <td>England</td>\n",
       "      <td>0.013149</td>\n",
       "      <td>2.710363</td>\n",
       "      <td>3.0</td>\n",
       "    </tr>\n",
       "    <tr>\n",
       "      <th>106</th>\n",
       "      <td>Brazil</td>\n",
       "      <td>0.013136</td>\n",
       "      <td>2.706048</td>\n",
       "      <td>4.0</td>\n",
       "    </tr>\n",
       "    <tr>\n",
       "      <th>94</th>\n",
       "      <td>Portugal</td>\n",
       "      <td>0.013126</td>\n",
       "      <td>2.702931</td>\n",
       "      <td>5.0</td>\n",
       "    </tr>\n",
       "    <tr>\n",
       "      <th>11</th>\n",
       "      <td>Argentina</td>\n",
       "      <td>0.012241</td>\n",
       "      <td>2.424359</td>\n",
       "      <td>6.0</td>\n",
       "    </tr>\n",
       "    <tr>\n",
       "      <th>60</th>\n",
       "      <td>France</td>\n",
       "      <td>0.012211</td>\n",
       "      <td>2.414840</td>\n",
       "      <td>7.0</td>\n",
       "    </tr>\n",
       "    <tr>\n",
       "      <th>156</th>\n",
       "      <td>Mexico</td>\n",
       "      <td>0.011735</td>\n",
       "      <td>2.264878</td>\n",
       "      <td>8.0</td>\n",
       "    </tr>\n",
       "    <tr>\n",
       "      <th>25</th>\n",
       "      <td>Spain</td>\n",
       "      <td>0.011689</td>\n",
       "      <td>2.250291</td>\n",
       "      <td>11.0</td>\n",
       "    </tr>\n",
       "    <tr>\n",
       "      <th>164</th>\n",
       "      <td>Colombia</td>\n",
       "      <td>0.011193</td>\n",
       "      <td>2.094014</td>\n",
       "      <td>12.0</td>\n",
       "    </tr>\n",
       "    <tr>\n",
       "      <th>32</th>\n",
       "      <td>Costa Rica</td>\n",
       "      <td>0.010769</td>\n",
       "      <td>1.960436</td>\n",
       "      <td>13.0</td>\n",
       "    </tr>\n",
       "    <tr>\n",
       "      <th>135</th>\n",
       "      <td>Belgium</td>\n",
       "      <td>0.010657</td>\n",
       "      <td>1.925250</td>\n",
       "      <td>14.0</td>\n",
       "    </tr>\n",
       "    <tr>\n",
       "      <th>45</th>\n",
       "      <td>Uruguay</td>\n",
       "      <td>0.010612</td>\n",
       "      <td>1.910966</td>\n",
       "      <td>15.0</td>\n",
       "    </tr>\n",
       "    <tr>\n",
       "      <th>147</th>\n",
       "      <td>Croatia</td>\n",
       "      <td>0.009668</td>\n",
       "      <td>1.613575</td>\n",
       "      <td>17.0</td>\n",
       "    </tr>\n",
       "    <tr>\n",
       "      <th>120</th>\n",
       "      <td>Nigeria</td>\n",
       "      <td>0.009600</td>\n",
       "      <td>1.592100</td>\n",
       "      <td>19.0</td>\n",
       "    </tr>\n",
       "    <tr>\n",
       "      <th>190</th>\n",
       "      <td>Poland</td>\n",
       "      <td>0.009354</td>\n",
       "      <td>1.514754</td>\n",
       "      <td>20.0</td>\n",
       "    </tr>\n",
       "    <tr>\n",
       "      <th>90</th>\n",
       "      <td>Russia</td>\n",
       "      <td>0.009240</td>\n",
       "      <td>1.478774</td>\n",
       "      <td>22.0</td>\n",
       "    </tr>\n",
       "    <tr>\n",
       "      <th>183</th>\n",
       "      <td>Senegal</td>\n",
       "      <td>0.009095</td>\n",
       "      <td>1.433162</td>\n",
       "      <td>23.0</td>\n",
       "    </tr>\n",
       "    <tr>\n",
       "      <th>149</th>\n",
       "      <td>Switzerland</td>\n",
       "      <td>0.009049</td>\n",
       "      <td>1.418565</td>\n",
       "      <td>24.0</td>\n",
       "    </tr>\n",
       "    <tr>\n",
       "      <th>71</th>\n",
       "      <td>Korea Republic</td>\n",
       "      <td>0.009031</td>\n",
       "      <td>1.412940</td>\n",
       "      <td>25.0</td>\n",
       "    </tr>\n",
       "    <tr>\n",
       "      <th>85</th>\n",
       "      <td>Sweden</td>\n",
       "      <td>0.008749</td>\n",
       "      <td>1.324019</td>\n",
       "      <td>28.0</td>\n",
       "    </tr>\n",
       "    <tr>\n",
       "      <th>181</th>\n",
       "      <td>Iceland</td>\n",
       "      <td>0.008535</td>\n",
       "      <td>1.256835</td>\n",
       "      <td>29.0</td>\n",
       "    </tr>\n",
       "    <tr>\n",
       "      <th>17</th>\n",
       "      <td>Japan</td>\n",
       "      <td>0.008324</td>\n",
       "      <td>1.190394</td>\n",
       "      <td>31.0</td>\n",
       "    </tr>\n",
       "    <tr>\n",
       "      <th>125</th>\n",
       "      <td>Iran</td>\n",
       "      <td>0.008308</td>\n",
       "      <td>1.185395</td>\n",
       "      <td>32.0</td>\n",
       "    </tr>\n",
       "    <tr>\n",
       "      <th>208</th>\n",
       "      <td>Tunisia</td>\n",
       "      <td>0.007908</td>\n",
       "      <td>1.059121</td>\n",
       "      <td>33.0</td>\n",
       "    </tr>\n",
       "    <tr>\n",
       "      <th>143</th>\n",
       "      <td>Denmark</td>\n",
       "      <td>0.007441</td>\n",
       "      <td>0.912166</td>\n",
       "      <td>39.0</td>\n",
       "    </tr>\n",
       "    <tr>\n",
       "      <th>146</th>\n",
       "      <td>Morocco</td>\n",
       "      <td>0.007189</td>\n",
       "      <td>0.832699</td>\n",
       "      <td>43.0</td>\n",
       "    </tr>\n",
       "    <tr>\n",
       "      <th>124</th>\n",
       "      <td>Australia</td>\n",
       "      <td>0.007036</td>\n",
       "      <td>0.784557</td>\n",
       "      <td>44.0</td>\n",
       "    </tr>\n",
       "    <tr>\n",
       "      <th>211</th>\n",
       "      <td>Serbia</td>\n",
       "      <td>0.006382</td>\n",
       "      <td>0.578516</td>\n",
       "      <td>54.0</td>\n",
       "    </tr>\n",
       "    <tr>\n",
       "      <th>64</th>\n",
       "      <td>Peru</td>\n",
       "      <td>0.006223</td>\n",
       "      <td>0.528551</td>\n",
       "      <td>56.0</td>\n",
       "    </tr>\n",
       "    <tr>\n",
       "      <th>16</th>\n",
       "      <td>Saudi Arabia</td>\n",
       "      <td>0.005744</td>\n",
       "      <td>0.377432</td>\n",
       "      <td>65.0</td>\n",
       "    </tr>\n",
       "    <tr>\n",
       "      <th>159</th>\n",
       "      <td>Egypt</td>\n",
       "      <td>0.005438</td>\n",
       "      <td>0.281126</td>\n",
       "      <td>77.0</td>\n",
       "    </tr>\n",
       "    <tr>\n",
       "      <th>109</th>\n",
       "      <td>Panama</td>\n",
       "      <td>0.005329</td>\n",
       "      <td>0.246945</td>\n",
       "      <td>78.0</td>\n",
       "    </tr>\n",
       "  </tbody>\n",
       "</table>\n",
       "</div>"
      ],
      "text/plain": [
       "                  0         1    scaled  rank\n",
       "23          Germany  0.014541  3.148790   1.0\n",
       "36          England  0.013149  2.710363   3.0\n",
       "106          Brazil  0.013136  2.706048   4.0\n",
       "94         Portugal  0.013126  2.702931   5.0\n",
       "11        Argentina  0.012241  2.424359   6.0\n",
       "60           France  0.012211  2.414840   7.0\n",
       "156          Mexico  0.011735  2.264878   8.0\n",
       "25            Spain  0.011689  2.250291  11.0\n",
       "164        Colombia  0.011193  2.094014  12.0\n",
       "32       Costa Rica  0.010769  1.960436  13.0\n",
       "135         Belgium  0.010657  1.925250  14.0\n",
       "45          Uruguay  0.010612  1.910966  15.0\n",
       "147         Croatia  0.009668  1.613575  17.0\n",
       "120         Nigeria  0.009600  1.592100  19.0\n",
       "190          Poland  0.009354  1.514754  20.0\n",
       "90           Russia  0.009240  1.478774  22.0\n",
       "183         Senegal  0.009095  1.433162  23.0\n",
       "149     Switzerland  0.009049  1.418565  24.0\n",
       "71   Korea Republic  0.009031  1.412940  25.0\n",
       "85           Sweden  0.008749  1.324019  28.0\n",
       "181         Iceland  0.008535  1.256835  29.0\n",
       "17            Japan  0.008324  1.190394  31.0\n",
       "125            Iran  0.008308  1.185395  32.0\n",
       "208         Tunisia  0.007908  1.059121  33.0\n",
       "143         Denmark  0.007441  0.912166  39.0\n",
       "146         Morocco  0.007189  0.832699  43.0\n",
       "124       Australia  0.007036  0.784557  44.0\n",
       "211          Serbia  0.006382  0.578516  54.0\n",
       "64             Peru  0.006223  0.528551  56.0\n",
       "16     Saudi Arabia  0.005744  0.377432  65.0\n",
       "159           Egypt  0.005438  0.281126  77.0\n",
       "109          Panama  0.005329  0.246945  78.0"
      ]
     },
     "execution_count": 74,
     "metadata": {},
     "output_type": "execute_result"
    }
   ],
   "source": [
    "w_df[w_df[0].isin(joined_list)].sort_values('rank')"
   ]
  },
  {
   "cell_type": "code",
   "execution_count": null,
   "metadata": {},
   "outputs": [],
   "source": []
  }
 ],
 "metadata": {
  "kernelspec": {
   "display_name": "Python 2",
   "language": "python",
   "name": "python2"
  },
  "language_info": {
   "codemirror_mode": {
    "name": "ipython",
    "version": 2
   },
   "file_extension": ".py",
   "mimetype": "text/x-python",
   "name": "python",
   "nbconvert_exporter": "python",
   "pygments_lexer": "ipython2",
   "version": "2.7.13"
  }
 },
 "nbformat": 4,
 "nbformat_minor": 2
}
