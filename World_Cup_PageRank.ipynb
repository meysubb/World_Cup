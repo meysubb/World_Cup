{
 "cells": [
  {
   "cell_type": "code",
   "execution_count": 1,
   "metadata": {},
   "outputs": [],
   "source": [
    "#https://projects.ncsu.edu/crsc/reports/ftp/pdf/crsc-tr06-19.pdf\n",
    "#https://github.com/lbenz730/world_cup\n",
    "import pandas as pd\n",
    "import numpy as np"
   ]
  },
  {
   "cell_type": "code",
   "execution_count": 2,
   "metadata": {},
   "outputs": [],
   "source": [
    "int_games = pd.read_csv(\"https://raw.githubusercontent.com/lbenz730/world_cup/master/international_soccer_game_data.csv\")"
   ]
  },
  {
   "cell_type": "code",
   "execution_count": 3,
   "metadata": {},
   "outputs": [],
   "source": [
    "int_games['date'] = pd.to_datetime(int_games['date'])"
   ]
  },
  {
   "cell_type": "code",
   "execution_count": 4,
   "metadata": {},
   "outputs": [],
   "source": [
    "int_games['recent'] = int_games['date'] - pd.datetime.now().date()\n",
    "int_games['GD'] = int_games['home_score'] - int_games['away_score']"
   ]
  },
  {
   "cell_type": "code",
   "execution_count": 5,
   "metadata": {},
   "outputs": [],
   "source": [
    "pr_alo = True"
   ]
  },
  {
   "cell_type": "code",
   "execution_count": 6,
   "metadata": {},
   "outputs": [],
   "source": [
    "if not pr_alo:\n",
    "    home_games = int_games[['home_team','away_team','tournament','neutral','recent','date','GD']]\n",
    "    away_games = int_games[['away_team','home_team','tournament','neutral','recent','date','GD']]\n",
    "    home_games['loc'] = 'H'\n",
    "    away_games['loc'] = 'A'\n",
    "    away_games['GD'] = -1 * away_games['GD']\n",
    "    col_rename = ['team','opponent','tourney','neutral','recent','date','GD','location']\n",
    "    away_games.columns = col_rename\n",
    "    home_games.columns = col_rename\n",
    "    all_games = pd.concat([away_games,home_games])\n",
    "    all_games.loc[all_games['neutral'],'location'] = 'N'\n",
    "    all_games.reset_index(inplace=True)\n",
    "    relevant_games = all_games[all_games['date'].dt.year > 2014]"
   ]
  },
  {
   "cell_type": "code",
   "execution_count": 7,
   "metadata": {},
   "outputs": [],
   "source": [
    "if pr_alo:\n",
    "    select_df = int_games[['home_team','away_team','tournament','neutral','recent','date','GD']]\n",
    "    col_renamev2 = ['team','opponent','tourney','neutral','recent','date','GD']\n",
    "    select_df.columns = col_renamev2\n",
    "    relevant_games = select_df[select_df['date'].dt.year>2014]"
   ]
  },
  {
   "cell_type": "code",
   "execution_count": 8,
   "metadata": {},
   "outputs": [],
   "source": [
    "def tourney_weights(t_name):\n",
    "    # WC - 4\n",
    "    # Continental Cup & Confederations Cup - 3\n",
    "    three_list = [\"AFC Asian Cup\",\"AFC Challenge Cup\",\"African Cup of Nation\",\n",
    "                  \"CFU Caribbean Cup\",\"CONCACAF Championship\",\"Gold Cup\",\"Oceania Nations Cup\",\n",
    "                  \"UAFA Cup\",\"UEFA Euro\",\"Confederations Cup\"]\n",
    "    # WC Qualifying & CC Qualifying - 2.5\n",
    "    two_list = [\"FIFA World Cup qualification\",\"AFC Asian Cup qualification\",\"AFC Challenge Cup qualification\",\n",
    "                \"African Cup of Nations qualification\",\"CFU Caribbean Cup qualification\",\n",
    "                \"CONCACAF Championship qualification\",\"Gold Cup qualification\",\n",
    "                \"Oceania Nations Cup qualification\",\"UAFA Cup qualification\",\"UEFA Euro qualification\"]\n",
    "    # all others 1\n",
    "    if t_name == 'FIFA World Cup':\n",
    "        return 4+1\n",
    "    elif t_name in three_list: \n",
    "        return 3+1\n",
    "    elif t_name in two_list:\n",
    "        return 2.5+1\n",
    "    else:\n",
    "        return 1+1"
   ]
  },
  {
   "cell_type": "code",
   "execution_count": 9,
   "metadata": {},
   "outputs": [
    {
     "name": "stderr",
     "output_type": "stream",
     "text": [
      "/anaconda/lib/python2.7/site-packages/ipykernel_launcher.py:1: SettingWithCopyWarning: \n",
      "A value is trying to be set on a copy of a slice from a DataFrame.\n",
      "Try using .loc[row_indexer,col_indexer] = value instead\n",
      "\n",
      "See the caveats in the documentation: http://pandas.pydata.org/pandas-docs/stable/indexing.html#indexing-view-versus-copy\n",
      "  \"\"\"Entry point for launching an IPython kernel.\n"
     ]
    }
   ],
   "source": [
    "relevant_games['weights'] = relevant_games['tourney'].apply(tourney_weights)"
   ]
  },
  {
   "cell_type": "code",
   "execution_count": 10,
   "metadata": {},
   "outputs": [],
   "source": [
    "gd_group = relevant_games.groupby(['weights','team','opponent'])['GD'].agg('sum')"
   ]
  },
  {
   "cell_type": "code",
   "execution_count": 11,
   "metadata": {},
   "outputs": [],
   "source": [
    "group_scores = gd_group.reset_index()"
   ]
  },
  {
   "cell_type": "code",
   "execution_count": 12,
   "metadata": {},
   "outputs": [
    {
     "name": "stderr",
     "output_type": "stream",
     "text": [
      "/anaconda/lib/python2.7/site-packages/ipykernel_launcher.py:2: SettingWithCopyWarning: \n",
      "A value is trying to be set on a copy of a slice from a DataFrame.\n",
      "Try using .loc[row_indexer,col_indexer] = value instead\n",
      "\n",
      "See the caveats in the documentation: http://pandas.pydata.org/pandas-docs/stable/indexing.html#indexing-view-versus-copy\n",
      "  \n"
     ]
    }
   ],
   "source": [
    "test = group_scores[group_scores['GD'] == 0]\n",
    "test['GD'] = -(0.5)\n",
    "add_values = group_scores.append(test)\n",
    "add_values.reset_index(inplace=True)"
   ]
  },
  {
   "cell_type": "code",
   "execution_count": 13,
   "metadata": {},
   "outputs": [],
   "source": [
    "add_values.loc[add_values['GD'] == 0,'GD'] = 0.5"
   ]
  },
  {
   "cell_type": "code",
   "execution_count": 14,
   "metadata": {},
   "outputs": [],
   "source": [
    "def create_from(row):\n",
    "    if row['GD']>0:\n",
    "        return row['team']\n",
    "    else:\n",
    "        return row['opponent']\n",
    "def create_to(row):\n",
    "    if row['GD']<0:\n",
    "        return row['team']\n",
    "    else: \n",
    "        return row['opponent']"
   ]
  },
  {
   "cell_type": "code",
   "execution_count": 15,
   "metadata": {},
   "outputs": [],
   "source": [
    "from_scores = add_values\n",
    "from_scores['from'] = from_scores.apply(create_from, axis=1)\n",
    "from_scores['to'] = from_scores.apply(create_to,axis=1)"
   ]
  },
  {
   "cell_type": "code",
   "execution_count": 16,
   "metadata": {},
   "outputs": [],
   "source": [
    "from_scores['GD'] = np.absolute(from_scores['GD'])\n",
    "final_graph_df = from_scores[['from','to','GD','weights']]"
   ]
  },
  {
   "cell_type": "code",
   "execution_count": 17,
   "metadata": {},
   "outputs": [],
   "source": [
    "final_graph_df.reset_index(inplace=True)"
   ]
  },
  {
   "cell_type": "code",
   "execution_count": 18,
   "metadata": {},
   "outputs": [
    {
     "name": "stderr",
     "output_type": "stream",
     "text": [
      "/anaconda/lib/python2.7/site-packages/ipykernel_launcher.py:1: SettingWithCopyWarning: \n",
      "A value is trying to be set on a copy of a slice from a DataFrame.\n",
      "Try using .loc[row_indexer,col_indexer] = value instead\n",
      "\n",
      "See the caveats in the documentation: http://pandas.pydata.org/pandas-docs/stable/indexing.html#indexing-view-versus-copy\n",
      "  \"\"\"Entry point for launching an IPython kernel.\n"
     ]
    }
   ],
   "source": [
    "final_graph_df['weighted_GD'] = np.log(final_graph_df['weights']) * final_graph_df['GD']"
   ]
  },
  {
   "cell_type": "code",
   "execution_count": 19,
   "metadata": {},
   "outputs": [],
   "source": [
    "simple_group_df = final_graph_df.groupby(['from','to'])['weighted_GD'].agg('sum')"
   ]
  },
  {
   "cell_type": "code",
   "execution_count": 20,
   "metadata": {},
   "outputs": [],
   "source": [
    "simple_df = simple_group_df.reset_index()"
   ]
  },
  {
   "cell_type": "markdown",
   "metadata": {},
   "source": [
    "### Final Start Page Rank"
   ]
  },
  {
   "cell_type": "code",
   "execution_count": 21,
   "metadata": {},
   "outputs": [],
   "source": [
    "import networkx as nx"
   ]
  },
  {
   "cell_type": "code",
   "execution_count": 22,
   "metadata": {},
   "outputs": [],
   "source": [
    "G=nx.from_pandas_dataframe(simple_df, 'from', 'to', 'weighted_GD')"
   ]
  },
  {
   "cell_type": "code",
   "execution_count": 23,
   "metadata": {},
   "outputs": [],
   "source": [
    "w_ng = nx.pagerank(G)"
   ]
  },
  {
   "cell_type": "code",
   "execution_count": 24,
   "metadata": {},
   "outputs": [],
   "source": [
    "sorted_w = sorted(w_ng.items(), key=lambda x: x[1],reverse=True)"
   ]
  },
  {
   "cell_type": "code",
   "execution_count": null,
   "metadata": {},
   "outputs": [],
   "source": []
  }
 ],
 "metadata": {
  "kernelspec": {
   "display_name": "Python 2",
   "language": "python",
   "name": "python2"
  },
  "language_info": {
   "codemirror_mode": {
    "name": "ipython",
    "version": 2
   },
   "file_extension": ".py",
   "mimetype": "text/x-python",
   "name": "python",
   "nbconvert_exporter": "python",
   "pygments_lexer": "ipython2",
   "version": "2.7.13"
  }
 },
 "nbformat": 4,
 "nbformat_minor": 2
}
